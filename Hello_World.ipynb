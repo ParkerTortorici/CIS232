{
  "nbformat": 4,
  "nbformat_minor": 0,
  "metadata": {
    "colab": {
      "provenance": [],
      "collapsed_sections": []
    },
    "kernelspec": {
      "name": "python3",
      "display_name": "Python 3"
    },
    "language_info": {
      "name": "python"
    }
  },
  "cells": [
    {
      "cell_type": "markdown",
      "source": [
        "## This is my first jupyter notebook\n",
        "\n",
        "This cell is using ***markdown*** to write formatted text that is also easy to read in raw format\n",
        "\n",
        "Below we have a code cell that runs ***python***"
      ],
      "metadata": {
        "id": "n4ki-acsL4yq"
      }
    },
    {
      "cell_type": "code",
      "execution_count": 1,
      "metadata": {
        "colab": {
          "base_uri": "https://localhost:8080/"
        },
        "id": "lmmhGiR0LdMf",
        "outputId": "27dda8b1-99b0-4639-fac9-385d4b15c980"
      },
      "outputs": [
        {
          "output_type": "stream",
          "name": "stdout",
          "text": [
            "Hello World\n"
          ]
        }
      ],
      "source": [
        "print('Hello World')"
      ]
    }
  ]
}